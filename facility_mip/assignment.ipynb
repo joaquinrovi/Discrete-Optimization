{
 "cells": [
  {
   "cell_type": "markdown",
   "metadata": {},
   "source": [
    "# Facility location\n",
    "\n",
    "Write an algorithm in Python to solve the facility location problem. The problem is mathematically formulated in the following way: there are $F$ = $0,1,...,f-1$ facilities to choose from and $C$ =  $0,1,...,c-1$ customers that need to be served. Each facility, $f \\in F$ has a setup cost $s_{f}$ and a capacity $cap_{f}$. Each customer, $c \\in C$ has a demand $d_{c}$. Both the facilities and customers are located in a Euclidean space, $〈x_{i}, y_{i}〉$, $i \\in F \\cup C$. The cost to delived goods to a particular customer $c$ from a facility $f$ is the Euclidean distance between two locations, $dist_{f,c}$. Lastly, all customers must be served by exactly one facility. Let $a_{f}$ be a decision variable denoting if a facility $f$ is open or not and let $b_{f,c}$ be another decision variable denoting if a customer $c$ is served by a facility $f$. The facility location problem is formalized as the following optimization problem.\n",
    "\n",
    "Minimize:\n",
    "\n",
    "$$ \\sum_{f \\in F} s_{f}*a_{f} + \\sum_{f \\in F} \\sum_{c \\in C} dist_{f,c}*b_{f,c}$$ \n",
    "\n",
    "Subject to:\n",
    "\n",
    "$$ \\sum_{f \\in F} b_{f,c} = 1, \\forall c \\in C $$\n",
    "$$ \\sum_{c \\in C} d_{c}*b_{f,c} \\leq cap_{f}, \\forall f \\in F $$\n",
    "$$ b_{f,c} \\leq a_{f}, \\forall f \\in F, \\forall c \\in C $$ \n",
    "$$ a_{f} \\in [0,1], b_{f,c} \\in [0,1], \\forall f \\in F, \\forall c \\in C $$\n",
    "\n",
    "# Data Format Specification\n",
    "\n",
    "The input consists of $|F|$ + $|C|$ + 1 lines. The first line contains two numbers, $|F|$ followed by $|C|$. The first line is followed by $|F|$ lines, where each line encodes the facility’s setup cost $s_{f}$ , capacity $cap_{f}$ , and the location $x_{f}$ , $y_{f}$. The remaining $|C|$ lines capture the customer information, where each line encodes the customer’s demand, $d_{c}$, and location $x_{c}$, $y_{c}$.\n",
    "\n",
    "Input Format\n",
    "|F| |C|\n",
    "s_0 cap_0 x_0 y_0\n",
    "s_1 cap_1 x_1 y_1\n",
    "...\n",
    "s_|F|-1 cap_|F|-1 x_|F|-1 y_|F|-1\n",
    "d_|F| x_|F| y_|F|\n",
    "d_|F|+1 x_|F|+1 y_|F|+1\n",
    "...\n",
    "d_|F|+|C|-1 x_|F|+|C|-1 y_|F|+|C|-1\n"
   ]
  }
 ],
 "metadata": {
  "language_info": {
   "name": "python"
  },
  "orig_nbformat": 4
 },
 "nbformat": 4,
 "nbformat_minor": 2
}
