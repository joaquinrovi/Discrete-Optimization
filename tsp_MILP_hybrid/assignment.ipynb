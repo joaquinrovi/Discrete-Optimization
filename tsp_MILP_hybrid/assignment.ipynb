{
 "cells": [
  {
   "cell_type": "markdown",
   "metadata": {},
   "source": [
    "## Assignment\n",
    "\n",
    "Write an algorithm to solve the traveling salesman problem (a.k.a. minimize the length of a hamiltonian cycle of a graph). The problem is mathematically formulated in the following way: Given a list of locations $N = 0 . . . n − 1$ and coordinates for each location $〈x_{i}, y_{i}〉$ $i ∈ N$ . Let $v_{i}$, $i ∈ N$ be a variable denoting the visitation order (i.e. the value of vi is the $i$-th location to be visited) and let $dist(l_{1}, l_{2})$ be the Euclidean distance between two locations. Then the traveling, salesman problem is formalized as the following optimization problem,\n",
    "\n",
    "minimize: $\\space$ $\\sum_{i \\in 0,...,n-1} dist(v_{i}, v_{i+1}) + dist(v_{n}, v_{0})$\n",
    "\n",
    "Subject to:\n",
    "\n",
    "$v_{i}$ are a permutation of $N$.\n",
    "\n",
    "$dist(n,m) = \\sqrt{(x_{n} - x_{m})^2 + (y_{n} - y_{m})^2} $\n",
    "\n"
   ]
  }
 ],
 "metadata": {
  "language_info": {
   "name": "python"
  },
  "orig_nbformat": 4
 },
 "nbformat": 4,
 "nbformat_minor": 2
}
