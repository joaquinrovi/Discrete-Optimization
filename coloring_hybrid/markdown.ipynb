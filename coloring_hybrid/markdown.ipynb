{
 "cells": [
  {
   "cell_type": "markdown",
   "metadata": {},
   "source": [
    "# Assignment\n",
    "\n",
    "Write an algorithm to minimize the coloring of a graph. The problem is mathematically formulated\n",
    "in the following way (LaTex). Given a graph $G = 〈N, E〉$ with nodes $N = 0 . . . n − 1$ and edges $E$, let $c_{i} \\in N$\n",
    "be a variable denoting the color of node $i$. Then the graph coloring problem is formalized as the\n",
    "following optimization problem,\n",
    "\n",
    "Minimize: \n",
    "\\begin{equation}\n",
    "\\max_{i \\in 0...n-1} c_{i}\n",
    "\\end{equation}\n",
    "\n",
    "subject to:\n",
    "\\begin{equation}\n",
    "c_{i} \\neq c_{j} 〈i, j〉\\in E\n",
    "\\end{equation}\n",
    "\n",
    "# Data Format Specification\n",
    "\n",
    "The input consists of $|E| + 1$ lines. The first line contains two numbers $|N|$ and $|E|$. It is followed\n",
    "by $|E|$ lines, each line represents an edge $〈u_{i}, v_{j} 〉$ where $u_{i}, v_{j} \\in 0 . . . |N | − 1$.\n",
    "\n",
    "Input format:\n",
    "\n",
    "|N| |E|\n",
    "u_0 v_0\n",
    "u_1 v_1\n",
    "...\n",
    "u_|E|-1 v_|E|-1\n",
    "\n",
    "The output has two lines. The first line contains two values $obj$ and $opt$. $obj$ is the numbers of\n",
    "colors used in the coloring (i.e. the objective value). $opt$ should be 1 if your algorithm proved\n",
    "optimality and 0 otherwise. The next line is a list of n values in $\\mathbb{N}$, one for each of the $c_{i}$ variables.\n",
    "This line encodes the solution.\n",
    "\n",
    "Output Format:\n",
    "obj opt\n",
    "c_0 c_1 c_2 ... c_n-1"
   ]
  }
 ],
 "metadata": {
  "language_info": {
   "name": "python"
  },
  "orig_nbformat": 4
 },
 "nbformat": 4,
 "nbformat_minor": 2
}
